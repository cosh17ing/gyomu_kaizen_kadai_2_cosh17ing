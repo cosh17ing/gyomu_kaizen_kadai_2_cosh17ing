{
 "cells": [
  {
   "cell_type": "code",
   "execution_count": 2,
   "metadata": {},
   "outputs": [],
   "source": [
    "#ライブラリのインポート\n",
    "import TkEasyGUI as sg  #\n",
    "import os\n",
    "import chardet          #\n",
    "import pandas as pd     #\n",
    "import re\n",
    "import math\n",
    "import openpyxl         #"
   ]
  },
  {
   "cell_type": "code",
   "execution_count": 9,
   "metadata": {},
   "outputs": [
    {
     "data": {
      "text/plain": [
       "(2024, 7, 25)"
      ]
     },
     "execution_count": 9,
     "metadata": {},
     "output_type": "execute_result"
    }
   ],
   "source": [
    "import datetime\n",
    "\n",
    "dt_now = datetime.datetime.now()\n",
    "dt_now.year, dt_now.month, dt_now.day"
   ]
  },
  {
   "cell_type": "code",
   "execution_count": 1,
   "metadata": {},
   "outputs": [],
   "source": [
    "# masterデータが存在すればそれを返し、存在しなければ新たに作成し、保存する\n",
    "def checkMasterCSV(file_path) :\n",
    "\n",
    "    # ファイルの存在確認\n",
    "    if os.path.exists(file_path):\n",
    "        # ファイルが存在すれば読み込む\n",
    "        #！！！readerrorとpermissionerrorでtryを通すこと！！！\n",
    "        masterdf = pd.read_csv(file_path, index_col=0, dtype={'受給者証番号':'str', '月間アセスメント担当者名':'str'})\n",
    "        \n",
    "    else:\n",
    "        # ファイルが存在しなければ新しいデータフレームを作成\n",
    "        columns = ['受給者証番号', '月間アセスメント担当者名']\n",
    "        masterdf = pd.DataFrame(columns=columns)\n",
    "        \n",
    "        # フォルダが無ければ作成\n",
    "        # 相対パスにファイル名のみを指定した場合、フォルダ名は''となる\n",
    "        if os.path.dirname(file_path) != '' :\n",
    "            if os.path.exists(os.path.dirname(file_path)) == False :\n",
    "                os.makedirs(os.path.dirname(file_path))\n",
    "            # データフレームをcsvファイルとして保存\n",
    "        masterdf.to_csv(file_path, index=True)\n",
    "\n",
    "    return masterdf"
   ]
  },
  {
   "cell_type": "code",
   "execution_count": 3,
   "metadata": {},
   "outputs": [],
   "source": [
    "# ファイルパスを指定\n",
    "file_path = \"usermaster.csv\"\n",
    "\n",
    "# ファイルの存在確認\n",
    "masterdf = checkMasterCSV(file_path=file_path)"
   ]
  },
  {
   "cell_type": "code",
   "execution_count": 60,
   "metadata": {},
   "outputs": [
    {
     "data": {
      "text/plain": [
       "''"
      ]
     },
     "execution_count": 60,
     "metadata": {},
     "output_type": "execute_result"
    }
   ],
   "source": [
    "os.path.dirname(file_path)"
   ]
  },
  {
   "cell_type": "code",
   "execution_count": 6,
   "metadata": {},
   "outputs": [
    {
     "data": {
      "text/html": [
       "<div>\n",
       "<style scoped>\n",
       "    .dataframe tbody tr th:only-of-type {\n",
       "        vertical-align: middle;\n",
       "    }\n",
       "\n",
       "    .dataframe tbody tr th {\n",
       "        vertical-align: top;\n",
       "    }\n",
       "\n",
       "    .dataframe thead th {\n",
       "        text-align: right;\n",
       "    }\n",
       "</style>\n",
       "<table border=\"1\" class=\"dataframe\">\n",
       "  <thead>\n",
       "    <tr style=\"text-align: right;\">\n",
       "      <th></th>\n",
       "      <th>受給者証番号</th>\n",
       "      <th>月間アセスメント担当者名</th>\n",
       "    </tr>\n",
       "  </thead>\n",
       "  <tbody>\n",
       "    <tr>\n",
       "      <th>test</th>\n",
       "      <td>00001234</td>\n",
       "      <td>taro</td>\n",
       "    </tr>\n",
       "  </tbody>\n",
       "</table>\n",
       "</div>"
      ],
      "text/plain": [
       "        受給者証番号 月間アセスメント担当者名\n",
       "test  00001234         taro"
      ]
     },
     "execution_count": 6,
     "metadata": {},
     "output_type": "execute_result"
    }
   ],
   "source": [
    "masterdf"
   ]
  },
  {
   "cell_type": "code",
   "execution_count": 5,
   "metadata": {},
   "outputs": [],
   "source": [
    "masterdf.loc['test'] = ['00001234', 'taro']\n",
    "masterdf.to_csv(file_path, index=True)"
   ]
  },
  {
   "cell_type": "code",
   "execution_count": 48,
   "metadata": {},
   "outputs": [
    {
     "name": "stdout",
     "output_type": "stream",
     "text": [
      "1555\n",
      "dayu\n"
     ]
    }
   ],
   "source": [
    "searchword = 'test2'\n",
    "\n",
    "# Key列をキーとしてデータフィールド内を検索\n",
    "if searchword in masterdf.index.values:\n",
    "    # 存在する場合、その行の他の列の要素を取得\n",
    "    result_row = masterdf[masterdf.index == searchword]\n",
    "    print(result_row.values[0][0])\n",
    "    print(result_row.values[0][1])\n",
    "else:\n",
    "    # 存在しない場合、新たな行を追加\n",
    "    default_value1 = 1555\n",
    "    default_value2 = 'dayu'\n",
    "    masterdf.loc[searchword] = [default_value1, default_value2]\n",
    "    # 追加されたデータフレームを再びCSVファイルに保存\n",
    "    masterdf.to_csv(file_path, index=True)"
   ]
  },
  {
   "cell_type": "code",
   "execution_count": 47,
   "metadata": {},
   "outputs": [
    {
     "data": {
      "text/plain": [
       "1555"
      ]
     },
     "execution_count": 47,
     "metadata": {},
     "output_type": "execute_result"
    }
   ],
   "source": [
    "result_row.values[0][0]"
   ]
  },
  {
   "cell_type": "code",
   "execution_count": 2,
   "metadata": {},
   "outputs": [
    {
     "data": {
      "text/plain": [
       "[1, 4, 5, 6, 7, 8, 11, 12, 13, 14, 15, 18, 19, 20, 21, 22, 25, 26, 27, 28, 29]"
      ]
     },
     "execution_count": 2,
     "metadata": {},
     "output_type": "execute_result"
    }
   ],
   "source": [
    "import calendar, datetime\n",
    "\n",
    "year = 2024\n",
    "month = 3\n",
    "\n",
    "#0→月曜日　6→日曜日\n",
    "dt = datetime.datetime(year, month, 1)\n",
    "n = dt.weekday()\n",
    "cell_list_startplace = n\n",
    "#nは5以上になると7を引き、-2から再びカウントが進む\n",
    "#nが0以上の時にリストに追加する\n",
    "if n > 4 :\n",
    "    n -= 7\n",
    "    cell_list_startplace = 0\n",
    "\n",
    "#月末日を求める\n",
    "lastdate = datetime.date(year, month, calendar.monthrange(year, month)[1]).day\n",
    "\n",
    "day_list = []\n",
    "\n",
    "for i in range(1, lastdate, 1) :\n",
    "    if n >= 0 :\n",
    "        day_list.append(i)\n",
    "\n",
    "    n += 1\n",
    "    if n > 4 : n -= 7\n",
    "\n",
    "day_list"
   ]
  },
  {
   "cell_type": "code",
   "execution_count": 3,
   "metadata": {},
   "outputs": [],
   "source": [
    "## ['B11', 'B13', 'B15', 'B17', 'B19', 'O11', 'O13', ... , 'O19', 'B28', 'B30', ...]\n",
    "\n",
    "column_list = ['B', 'C', 'E', 'F', 'G', 'I', 'O', 'P', 'R', 'S', 'T', 'V']\n",
    "#row_listは必ずintで扱うこと！！\n",
    "row_list = list(range(11, 21, 2))*2 + list(range(28, 38, 2))*2 + list(range(45, 55, 2))*2\n",
    "cell_list = []\n",
    "\n",
    "for i, r in enumerate(row_list) :\n",
    "    #B, B, B, B, B, O, O, O, O, O, B, B, ...\n",
    "    column = 'B'\n",
    "    if int(i / 5) % 2 == 1 :\n",
    "        column = 'O'\n",
    "    \n",
    "    cell_list.append([column_list[column_list.index(column)  ] + str(r),\n",
    "                    column_list[column_list.index(column) + 1] + str(r),\n",
    "                    column_list[column_list.index(column) + 2] + str(r),\n",
    "                    column_list[column_list.index(column) + 2] + str(r + 1),\n",
    "                    column_list[column_list.index(column) + 3] + str(r),\n",
    "                    column_list[column_list.index(column) + 3] + str(r + 1),\n",
    "                    column_list[column_list.index(column) + 4] + str(r),\n",
    "                    column_list[column_list.index(column) + 5] + str(r)])\n",
    "\n",
    "## cell_list[入力箇所0~29][日ごとの入力欄0~7]"
   ]
  },
  {
   "cell_type": "code",
   "execution_count": 4,
   "metadata": {},
   "outputs": [
    {
     "name": "stdout",
     "output_type": "stream",
     "text": [
      "1 ['B19', 'C19', 'E19', 'E20', 'F19', 'F20', 'G19', 'H19']\n",
      "4 ['O11', 'P11', 'R11', 'R12', 'S11', 'S12', 'T11', 'U11']\n",
      "5 ['O13', 'P13', 'R13', 'R14', 'S13', 'S14', 'T13', 'U13']\n",
      "6 ['O15', 'P15', 'R15', 'R16', 'S15', 'S16', 'T15', 'U15']\n",
      "7 ['O17', 'P17', 'R17', 'R18', 'S17', 'S18', 'T17', 'U17']\n",
      "8 ['O19', 'P19', 'R19', 'R20', 'S19', 'S20', 'T19', 'U19']\n",
      "11 ['B28', 'C28', 'E28', 'E29', 'F28', 'F29', 'G28', 'H28']\n",
      "12 ['B30', 'C30', 'E30', 'E31', 'F30', 'F31', 'G30', 'H30']\n",
      "13 ['B32', 'C32', 'E32', 'E33', 'F32', 'F33', 'G32', 'H32']\n",
      "14 ['B34', 'C34', 'E34', 'E35', 'F34', 'F35', 'G34', 'H34']\n",
      "15 ['B36', 'C36', 'E36', 'E37', 'F36', 'F37', 'G36', 'H36']\n",
      "18 ['O28', 'P28', 'R28', 'R29', 'S28', 'S29', 'T28', 'U28']\n",
      "19 ['O30', 'P30', 'R30', 'R31', 'S30', 'S31', 'T30', 'U30']\n",
      "20 祝日\n",
      "21 ['O34', 'P34', 'R34', 'R35', 'S34', 'S35', 'T34', 'U34']\n",
      "22 ['O36', 'P36', 'R36', 'R37', 'S36', 'S37', 'T36', 'U36']\n",
      "25 ['B45', 'C45', 'E45', 'E46', 'F45', 'F46', 'G45', 'H45']\n",
      "26 ['B47', 'C47', 'E47', 'E48', 'F47', 'F48', 'G47', 'H47']\n",
      "27 ['B49', 'C49', 'E49', 'E50', 'F49', 'F50', 'G49', 'H49']\n",
      "28 ['B51', 'C51', 'E51', 'E52', 'F51', 'F52', 'G51', 'H51']\n",
      "29 ['B53', 'C53', 'E53', 'E54', 'F53', 'F54', 'G53', 'H53']\n"
     ]
    }
   ],
   "source": [
    "import jpbizday  #\n",
    "#jpbizdayは営業日を拾ってくるライブラリ\n",
    "\n",
    "#データのある日付リストも別途作成し、\n",
    "#2つのリストを照合して(inを用いて)存在しない場合は「予定休」→欠席に○を付ける\n",
    "\n",
    "for i, d in enumerate(day_list) :\n",
    "    if jpbizday.is_bizday(datetime.date(year, month, d)) :\n",
    "        print(d, cell_list[i + cell_list_startplace][:])\n",
    "    else :\n",
    "        print(d, \"祝日\")"
   ]
  },
  {
   "cell_type": "code",
   "execution_count": 4,
   "metadata": {},
   "outputs": [],
   "source": [
    "#ファイルを読み込み、読み込むファイルのエンコードを判別する\n",
    "#改めてファイルを読み込み、データフレームにする\n",
    "#それぞれのデータフレームの氏名欄に\\u3000(全角スペース)がある場合、半角スペースに変換する\n",
    "\n",
    "#この3つを同時に行い、データフィールドを戻り値とする関数\n",
    "def csvConvert(file_path) :\n",
    "    with open(file_path, 'rb') as f:\n",
    "        result = chardet.detect(f.read())\n",
    "    encoding = result['encoding']\n",
    "    \n",
    "    df = pd.read_csv(file_path, encoding=encoding)\n",
    "\n",
    "    if '\\u3000' in df.columns.values[0]:\n",
    "        df = df.rename(columns={df.columns.values[0] : df.columns.values[0].replace('\\u3000',' ')})\n",
    "\n",
    "    return df"
   ]
  },
  {
   "cell_type": "code",
   "execution_count": 3,
   "metadata": {},
   "outputs": [],
   "source": [
    "#フォーマットとなるExcelファイルの存在確認\n",
    "try:\n",
    "    wb = openpyxl.load_workbook('サービス支援記録ーSample Format(張翔).xlsx')\n",
    "except Exception as e:\n",
    "    sg.popup(f'フォーマットとなるExcelブックを開くことが出来ませんでした。\\n{e}')\n",
    "    exit()"
   ]
  },
  {
   "cell_type": "code",
   "execution_count": 2,
   "metadata": {},
   "outputs": [],
   "source": [
    "layout = [\n",
    "    [sg.Button('ボタン')]\n",
    "]\n",
    "\n",
    "window = sg.Window('test', layout)\n",
    "\n",
    "while True :\n",
    "    # イベントを取得\n",
    "    event, values = window.read()\n",
    "\n",
    "    if event == sg.WINDOW_CLOSED :\n",
    "        window.close()\n",
    "        break\n",
    "\n",
    "    if event == 'ボタン' :\n",
    "        event = sg.popup('テスト')\n",
    "        sg.popup(event)\n",
    "        continue"
   ]
  },
  {
   "cell_type": "code",
   "execution_count": 6,
   "metadata": {},
   "outputs": [],
   "source": [
    "# GUIを定義する\n",
    "layout = [\n",
    "    [sg.Text('上4つのテキストボックスを入力し、「↓」ボタンを押してください。')],\n",
    "    [sg.Text('caseDaily:'), sg.Input('', key='-caseDailyPath-'), sg.FileBrowse()],\n",
    "    [sg.Text('userCaseDaily:'), sg.Input('', key='-userCaseDailyPath-'), sg.FileBrowse()],\n",
    "    [sg.Text('月間アセスメント実施日:'), sg.Input('', key='-assessmentDay-')],\n",
    "    [sg.Text('Excelブックの出力先:'), sg.Input('', key='-outputPath-'), sg.FolderBrowse()],\n",
    "    [sg.Button('↓')],\n",
    "    [sg.Text('氏名:'), sg.Input('', key='-name-')],\n",
    "    [sg.Text('受給者証番号:'), sg.Input('', key='-id-')],\n",
    "    [sg.Text('月間アセスメント担当者名:'), sg.Input('', key='-assessmentAuthor-')],\n",
    "    [sg.Text('', key='-notification1-')],\n",
    "    [sg.Text('')],\n",
    "    [sg.Text('Format'), sg.Input('在宅支援記録表及びアセスメント表（週間・月間）.xlsx', key='-formatPath-', readonly=True), sg.FileBrowse()],\n",
    "    [sg.Text('Data'), sg.Input('master/master.csv', key='-masterDataPath-', readonly=True), sg.FileBrowse()],\n",
    "    [sg.Button('実行')],\n",
    "    [sg.Text('', key='-notification2-')]\n",
    "]\n",
    "window = sg.Window('在宅支援記録及びアセスメント表作成支援ツール', layout)\n",
    "\n",
    "flag = False\n",
    "verify_flag = False\n",
    "# イベントを処理\n",
    "while True :\n",
    "    # イベントを取得\n",
    "    event, values = window.read()\n",
    "\n",
    "    if event == sg.WINDOW_CLOSED :\n",
    "        flag = False\n",
    "        window.close()\n",
    "        break\n",
    "\n",
    "    if event == '実行': # 実行ボタンが押された時の処理\n",
    "        flag = True\n",
    "        val1 = values['-caseDailyPath-']\n",
    "        val2 = values['-userCaseDailyPath-']\n",
    "        val3 = values['-outputPath-']\n",
    "\n",
    "        #テキストボックスおよびファイル検査\n",
    "\n",
    "        verify_flag = True\n",
    "\n",
    "        #10. caseDailyが空欄でない\n",
    "        #11. userCaseDailyが空欄でない\n",
    "        #12. 出力先が空欄でない\n",
    "        if val1 == '' or val2 == '' or val3 == '' :\n",
    "            verify_flag = False\n",
    "            empty_list = []\n",
    "            if val1 == '' : empty_list.append('caseDaily欄')\n",
    "            if val2 == '' : empty_list.append('userCaseDaily欄')\n",
    "            if val3 == '' : empty_list.append('Excelブックの出力先')\n",
    "\n",
    "            empty_str = ''\n",
    "            for i, j in enumerate(empty_list) :\n",
    "                if i > 0 : \n",
    "                    if i == len(empty_list) - 1 :empty_str += 'および' \n",
    "                    else : empty_str += '、'\n",
    "                empty_str += j\n",
    "            sg.popup(f'{empty_str}は必須項目です。空欄にはできません。')\n",
    "\n",
    "        if not verify_flag :continue\n",
    "\n",
    "        #3. caseDailyにcaseDailyのファイルが入っている\n",
    "        #4. caseDailyにcsvファイルが入っている\n",
    "        #1. userCaseDailyにuserCaseDailyのファイルが入っている\n",
    "        #2. userCaseDailyにcsvファイルが入っている\n",
    "        filename1 = val1.split('/').pop()\n",
    "        filename2 = val2.split('/').pop()\n",
    "\n",
    "        errMsg_list = []\n",
    "        if len(filename1) < 4 :\n",
    "            verify_flag = False\n",
    "            errMsg_list.append('caseDaily欄に指定した値が有効ではありません。')\n",
    "        elif filename1[-4:] != '.csv' :\n",
    "            verify_flag = False\n",
    "            errMsg_list.append('caseDaily欄に指定したファイルはCSVではありません。')\n",
    "        elif len(filename1) < 19 :\n",
    "            verify_flag = False\n",
    "            errMsg_list.append('caseDaily欄に指定した値が有効ではありません。')\n",
    "        elif filename1[:9] != 'caseDaily':\n",
    "            verify_flag = False\n",
    "            errMsg_list.append('caseDaily欄に指定した値が有効ではありません。')\n",
    "            \n",
    "        if len(filename2) < 4 :\n",
    "            verify_flag = False\n",
    "            errMsg_list.append('userCaseDaily欄に指定した値が有効ではありません。')\n",
    "        elif filename2[-4:] != '.csv' :\n",
    "            verify_flag = False\n",
    "            errMsg_list.append('userCaseDaily欄に指定したファイルはCSVではありません。')\n",
    "        elif len(filename2) < 23 :\n",
    "            verify_flag = False\n",
    "            errMsg_list.append('userCaseDaily欄に指定した値が有効ではありません。')\n",
    "        elif filename2[:13] != 'userCaseDaily' :\n",
    "            verify_flag = False\n",
    "            errMsg_list.append('userCaseDaily欄に指定した値が有効ではありません。')\n",
    "\n",
    "        if not verify_flag :\n",
    "            errMsg = ''\n",
    "            for i, j in enumerate(errMsg_list) :\n",
    "                if i : errMsg += '\\n'\n",
    "                errMsg += j\n",
    "            sg.popup(errMsg)\n",
    "            continue\n",
    "        \n",
    "        #追加. caseDailyとuserCaseDailyのIDが同じである\n",
    "        #9. caseDailyとuserCaseDailyの年月が同じである\n",
    "        filename1_list = filename1.split('_')\n",
    "        filename2_list = filename2.split('_')\n",
    "\n",
    "        differ_list = []\n",
    "        if filename1_list[1] != filename2_list[1] or filename1_list[2] != filename2_list[2] :\n",
    "            verify_flag = False\n",
    "\n",
    "            if filename1_list[1] != filename2_list[1] : differ_list.append('ID')\n",
    "            if filename1_list[2][:6] != filename2_list[2][:6] : differ_list.append('年月')\n",
    "\n",
    "            differ_str = ''\n",
    "            for i, j in enumerate(differ_list) :\n",
    "                if i :differ_str += 'および'\n",
    "                differ_str += j\n",
    "\n",
    "        if not verify_flag :\n",
    "            sg.popup(f'caseDailyとuserCaseDailyで{differ_str}が異なります。')\n",
    "            continue\n",
    "\n",
    "        #追加. 出力先が絶対パスである\n",
    "        if not os.path.isabs(val3) :\n",
    "            verify_flag = False\n",
    "            sg.popup('Excelブックの出力先はファイル選択ダイアログから指定してください。')\n",
    "            continue\n",
    "\n",
    "        #13. 出力されるxlsxファイルが既に存在する時、上書きするかどうかのダイアログを出す\n",
    "        #8. 出力されるxlsxファイルのアクセス拒否エラーをTryで渡す\n",
    "        #   不要. caseDailyおよびuserCaseDailyの各ファイルについてもアクセス拒否エラーをTryで渡す\n",
    "        namedf = csvConvert(val1)\n",
    "        name = namedf.columns.values[0]\n",
    "        saveFilename = f'{name}_{filename1_list[2][:6]}_サービス支援記録.xlsx'\n",
    "        savePath = f'{val3}\\\\{saveFilename}'\n",
    "\n",
    "        if os.path.exists(savePath) :\n",
    "            result = sg.popup_ok_cancel(f'{savePath}は既に存在します。上書きしますか？',\n",
    "                                        title='サービス支援記録・簡易作成ツール')\n",
    "            if result == 'OK' :\n",
    "                try:\n",
    "                    wb = openpyxl.load_workbook(savePath)\n",
    "                except PermissionError as e:\n",
    "                    verify_flag = False\n",
    "                    sg.popup('出力先のExcelブックを開くことが出来ませんでした。\\\n",
    "Excelブックを閉じてからやり直してください。')\n",
    "            else :verify_flag = False\n",
    "\n",
    "        if not verify_flag :continue\n",
    "\n",
    "        caseDailyPath = val1\n",
    "        userCaseDailyPath = val2\n",
    "        window.close()\n",
    "        break\n",
    "\n",
    "#if not flag :exit()"
   ]
  },
  {
   "cell_type": "code",
   "execution_count": 6,
   "metadata": {},
   "outputs": [],
   "source": [
    "#緊急用　いらない\n",
    "window.close()"
   ]
  },
  {
   "cell_type": "code",
   "execution_count": 5,
   "metadata": {},
   "outputs": [],
   "source": [
    "#ファイルを読み込み、エンコードをUTF-8に変換してデータフレームにする\n",
    "#それぞれのデータフレームの氏名欄に\\u3000(全角スペース)がある場合、半角スペースに変換する\n",
    "caseDaily = csvConvert(caseDailyPath)\n",
    "userCaseDaily = csvConvert(userCaseDailyPath)\n",
    "\n",
    "name = caseDaily.columns.values[0]\n",
    "df = pd.merge(caseDaily, userCaseDaily, on=name, how='left')"
   ]
  },
  {
   "cell_type": "code",
   "execution_count": 6,
   "metadata": {},
   "outputs": [],
   "source": [
    "#'出欠等'列が'欠席時対応'の行を除去する\n",
    "droplist = []\n",
    "for i, j in zip(df.index, df['出欠等']):\n",
    "    if j == \"欠席時対応\" :droplist.append(i)\n",
    "df = df.drop(df.index[droplist])"
   ]
  },
  {
   "cell_type": "code",
   "execution_count": 9,
   "metadata": {},
   "outputs": [
    {
     "data": {
      "text/plain": [
       "Index(['秋葉原 大夫', '予定', '出欠等', '実績開始時間_x', '実績終了時間_x', '訪問', '送迎(往)',\n",
       "       '送迎同一敷地内(往)', '送迎(往).1', '送迎同一敷地内(往).1', '食事提供', '医療連携', '施設外支援',\n",
       "       '移行準備支援体制加算Ⅰ(同行)', '移行準備支援体制加算Ⅱ', '実績記録票備考欄', '日報_x', '出欠等詳細', '確認事項',\n",
       "       '確認事項対応結果', '確認事項対応状況', '備考_x', '面談対応者', '面談区分', '面談タイトル', '面談詳細',\n",
       "       '面談備考', '請求', 'プログラム', '体温', '予定開始時間', '予定終了時間', '実績開始時間_y', '実績終了時間_y',\n",
       "       '睡眠開始時間', '睡眠終了時間', '熟睡感', '起床時の意欲', '睡眠メモ', '昨日昼食', '昨日夕食', '本日朝食',\n",
       "       '食事メモ', '午前のプログラム', '午前のプログラム詳細', '午後1のプログラム', '午後1のプログラム詳細',\n",
       "       '午後2のプログラム', '午後2のプログラム詳細', '終日のプログラム', '終日のプログラム詳細', '日報_y', '備考_y'],\n",
       "      dtype='object')"
      ]
     },
     "execution_count": 9,
     "metadata": {},
     "output_type": "execute_result"
    }
   ],
   "source": [
    "df.columns"
   ]
  },
  {
   "cell_type": "code",
   "execution_count": 64,
   "metadata": {},
   "outputs": [],
   "source": [
    "#strとfloat_nanを同時に判別する関数\n",
    "def nan_check(val) :\n",
    "    if type(val) is str :return val\n",
    "    else :\n",
    "        if math.isnan(val) :\n",
    "            return False\n",
    "        else :return val\n",
    "\n",
    "#Excelブックを開く\n",
    "wb = openpyxl.load_workbook('サービス支援記録ーSample Format(張翔).xlsx')\n",
    "\n",
    "#年月日を指定する\n",
    "separate_code = df[name][0][4]\n",
    "\n",
    "#データを取り出す\n",
    "for i1, i2, i3, i4, i5, i6, i7, i8, i9, i10, i11 in zip(\n",
    "    df[name], df['実績開始時間_x'], df['実績終了時間_x'], df['実績記録票備考欄'],\n",
    "    df['午前のプログラム'], df['午前のプログラム詳細'], df['午後1のプログラム'], df['午後1のプログラム詳細'],\n",
    "    df['日報_x'], df['体温'], df['備考_x']\n",
    "):\n",
    "    #データ処理\n",
    "    place = ''\n",
    "    if nan_check(i4) == False :\n",
    "        place = '事業所'\n",
    "    elif i4 == '在宅支援（届出済）' :\n",
    "        place = '利用者宅'\n",
    "    else :place = 'その他'\n",
    "    \n",
    "    temperature = ''\n",
    "    if nan_check(i10) == False:\n",
    "        temperature = '体温未計測'\n",
    "    else :\n",
    "        temperature = str(i10) + '℃'\n",
    "    \n",
    "    yyyymm = i1\n",
    "    yyyymm_list = yyyymm.split(separate_code)\n",
    "    date = yyyymm_list[0] + '年'\n",
    "    if int(yyyymm_list[1]) < 10 & len(yyyymm_list[1]) > 1 :\n",
    "        date += (yyyymm_list[1][1] + '月')\n",
    "    else :\n",
    "        date += (yyyymm_list[1] + '月')\n",
    "    if int(yyyymm_list[2]) < 10 & len(yyyymm_list[2]) > 1  :\n",
    "        date += (yyyymm_list[2][1] + '日')\n",
    "    else :\n",
    "        date += (yyyymm_list[2] + '日')\n",
    "    \n",
    "    time = f'{str(i2[:5])}～{str(i3[:5])}'\n",
    "\n",
    "    work = ''\n",
    "    if nan_check(i5) :\n",
    "        work = i5\n",
    "        for i in [i6, i7, i8] :\n",
    "            if nan_check(i) : work += '\\n' + i\n",
    "    else :\n",
    "        work = i9\n",
    "        work_list = []\n",
    "        result = re.findall(r'本人.+?「.+?」', work)\n",
    "        work = result[0][result[0].find('「')+1:-1]\n",
    "\n",
    "    #備考欄の処理\n",
    "    remarks = i11\n",
    "    remarks_list = []\n",
    "    result = re.findall(r'\\d+:\\d+', remarks)\n",
    "    for i in result :\n",
    "        remarks_list = re.split(r'\\d+:\\d+', remarks)\n",
    "    result.insert(0, '')\n",
    "\n",
    "    remarks = ''\n",
    "    for i, (j, k) in enumerate(zip(result, remarks_list)) :\n",
    "        if i and k[0] != ' ' : k = ' ' + k\n",
    "        remarks = remarks + (j + k[:30] + '・・・・\\n')\n",
    "\n",
    "    #print(i1, i2, i3, i4, i5, i6, i7, i8, i9, i10, i11)\n",
    "\n",
    "    #print(date, time, place, temperature)\n",
    "    #print(work)\n",
    "    #print(i9)\n",
    "    #print(result)\n",
    "    #print(remarks)\n",
    "\n",
    "    #Excelブックのシートをコピーし、データを入力する\n",
    "    sheet = wb.copy_worksheet(wb['Format'])\n",
    "    sheet.title = date\n",
    "    sheet.sheet_view.view = 'pageBreakPreview'\n",
    "\n",
    "    sheet['B4'] = date\n",
    "    sheet['G4'] = name\n",
    "    sheet['B5'] = time\n",
    "    sheet['G5'] = place\n",
    "    sheet['A9'] = work\n",
    "    sheet['A11'] = i9\n",
    "    sheet['B13'] = temperature\n",
    "    sheet['A16'] = remarks\n",
    "    '''\n",
    "    B4 G4(name) B5 G5 A9 A11 B13 A16\n",
    "    date name time place work i9 temperature remarks\n",
    "    '''\n"
   ]
  },
  {
   "cell_type": "code",
   "execution_count": 65,
   "metadata": {},
   "outputs": [
    {
     "data": {
      "text/plain": [
       "'OK'"
      ]
     },
     "execution_count": 65,
     "metadata": {},
     "output_type": "execute_result"
    }
   ],
   "source": [
    "#FormatシートとSampleシートを削除する\n",
    "wb.remove(wb['Format'])\n",
    "wb.remove(wb['Sample'])\n",
    "\n",
    "#yyyymm = yyyymm_list[0] + yyyymm_list[1]\n",
    "\n",
    "#Excelブックを保存する\n",
    "#wb.save(name + '_' + yyyymm + '_サービス支援記録.xlsx')\n",
    "if not os.path.isdir(val3) :\n",
    "    os.makedirs(val3)\n",
    "wb.save(savePath)\n",
    "\n",
    "sg.popup(f'{savePath}への出力が完了しました。')"
   ]
  },
  {
   "cell_type": "code",
   "execution_count": null,
   "metadata": {},
   "outputs": [],
   "source": []
  }
 ],
 "metadata": {
  "kernelspec": {
   "display_name": "Python 3",
   "language": "python",
   "name": "python3"
  },
  "language_info": {
   "codemirror_mode": {
    "name": "ipython",
    "version": 3
   },
   "file_extension": ".py",
   "mimetype": "text/x-python",
   "name": "python",
   "nbconvert_exporter": "python",
   "pygments_lexer": "ipython3",
   "version": "3.11.9"
  }
 },
 "nbformat": 4,
 "nbformat_minor": 2
}
